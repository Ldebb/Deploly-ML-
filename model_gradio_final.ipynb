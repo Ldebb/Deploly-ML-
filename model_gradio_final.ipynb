{
  "nbformat": 4,
  "nbformat_minor": 0,
  "metadata": {
    "colab": {
      "name": "model_gradio_final.ipynb",
      "provenance": []
    },
    "kernelspec": {
      "name": "python3",
      "display_name": "Python 3"
    },
    "language_info": {
      "name": "python"
    }
  },
  "cells": [
    {
      "cell_type": "code",
      "execution_count": 1,
      "metadata": {
        "colab": {
          "base_uri": "https://localhost:8080/"
        },
        "id": "5Wg_J22AVbeO",
        "outputId": "1e7de095-7248-4dac-e132-2a32904ce139"
      },
      "outputs": [
        {
          "output_type": "stream",
          "name": "stdout",
          "text": [
            "\u001b[K     |████████████████████████████████| 5.1 MB 4.3 MB/s \n",
            "\u001b[K     |████████████████████████████████| 84 kB 507 kB/s \n",
            "\u001b[K     |████████████████████████████████| 1.1 MB 61.8 MB/s \n",
            "\u001b[K     |████████████████████████████████| 2.3 MB 46.3 MB/s \n",
            "\u001b[K     |████████████████████████████████| 57 kB 4.6 MB/s \n",
            "\u001b[K     |████████████████████████████████| 140 kB 48.7 MB/s \n",
            "\u001b[K     |████████████████████████████████| 54 kB 3.1 MB/s \n",
            "\u001b[K     |████████████████████████████████| 212 kB 72.4 MB/s \n",
            "\u001b[K     |████████████████████████████████| 256 kB 72.8 MB/s \n",
            "\u001b[K     |████████████████████████████████| 94 kB 3.2 MB/s \n",
            "\u001b[K     |████████████████████████████████| 144 kB 61.6 MB/s \n",
            "\u001b[K     |████████████████████████████████| 271 kB 52.9 MB/s \n",
            "\u001b[K     |████████████████████████████████| 63 kB 1.8 MB/s \n",
            "\u001b[K     |████████████████████████████████| 80 kB 5.9 MB/s \n",
            "\u001b[K     |████████████████████████████████| 43 kB 1.7 MB/s \n",
            "\u001b[K     |████████████████████████████████| 62 kB 725 kB/s \n",
            "\u001b[K     |████████████████████████████████| 4.0 MB 40.3 MB/s \n",
            "\u001b[K     |████████████████████████████████| 856 kB 44.0 MB/s \n",
            "\u001b[K     |████████████████████████████████| 58 kB 4.5 MB/s \n",
            "\u001b[?25h  Building wheel for ffmpy (setup.py) ... \u001b[?25l\u001b[?25hdone\n",
            "  Building wheel for python-multipart (setup.py) ... \u001b[?25l\u001b[?25hdone\n"
          ]
        }
      ],
      "source": [
        "!pip install -q gradio "
      ]
    },
    {
      "cell_type": "code",
      "source": [
        "import re\n",
        "\n",
        "import gradio as gr\n",
        "\n",
        "male_words, female_words = [\"he\", \"his\", \"him\", \"man\", \"boy\"], [\"she\", \"hers\", \"her\", \"girl\", \"women\"]\n",
        "\n",
        "def gender_of_sentence(sentence):\n",
        "    male_count = len([word for word in sentence.split() if word.lower() in male_words])\n",
        "    female_count = len(\n",
        "        [word for word in sentence.split() if word.lower() in female_words]\n",
        "    )\n",
        "    total = max(male_count + female_count, 1)\n",
        "    return {\"male\": male_count / total, \"female\": female_count / total}\n",
        "\n",
        "def interpret_gender(sentence):\n",
        "    result = gender_of_sentence(sentence)\n",
        "    is_male = result[\"male\"] > result[\"female\"]\n",
        "    interpretation = []\n",
        "    for word in re.split(\"( )\", sentence):\n",
        "        score = 0\n",
        "        token = word.lower()\n",
        "        if (is_male and token in male_words) or (not is_male and token in female_words):\n",
        "            score = 1\n",
        "        elif (is_male and token in female_words) or (\n",
        "            not is_male and token in male_words\n",
        "        ):\n",
        "            score = -1\n",
        "        interpretation.append((word, score))\n",
        "    return interpretation\n",
        "\n",
        "\n",
        "in1 = gr.inputs.Dropdown(choices=[\"Hi went to his house to get her keys and she accept to give it back\", \"Hi went to his house to get her keys and she accept to give it back\", \"This girl is in fire\"])\n",
        "\n",
        "\n",
        "demo = gr.Interface(\n",
        "    fn=gender_of_sentence,\n",
        "    inputs=in1,\n",
        "    outputs=\"label\"\n",
        ")\n",
        "\n",
        "demo.launch()"
      ],
      "metadata": {
        "colab": {
          "base_uri": "https://localhost:8080/",
          "height": 677
        },
        "id": "uAJywKlvVq_A",
        "outputId": "9b48f2b7-b31f-4bc9-f059-11cc739bfd72"
      },
      "execution_count": 5,
      "outputs": [
        {
          "output_type": "stream",
          "name": "stderr",
          "text": [
            "/usr/local/lib/python3.7/dist-packages/gradio/deprecation.py:40: UserWarning: `optional` parameter is deprecated, and it has no effect\n",
            "  warnings.warn(value)\n"
          ]
        },
        {
          "output_type": "stream",
          "name": "stdout",
          "text": [
            "Colab notebook detected. To show errors in colab notebook, set `debug=True` in `launch()`\n",
            "Running on public URL: https://11589.gradio.app\n",
            "\n",
            "This share link expires in 72 hours. For free permanent hosting, check out Spaces (https://huggingface.co/spaces)\n"
          ]
        },
        {
          "output_type": "display_data",
          "data": {
            "text/plain": [
              "<IPython.core.display.HTML object>"
            ],
            "text/html": [
              "<div><iframe src=\"https://11589.gradio.app\" width=\"900\" height=\"500\" allow=\"autoplay; camera; microphone;\" frameborder=\"0\" allowfullscreen></iframe></div>"
            ]
          },
          "metadata": {}
        },
        {
          "output_type": "execute_result",
          "data": {
            "text/plain": [
              "(<gradio.routes.App at 0x7f20750fd610>,\n",
              " 'http://127.0.0.1:7862/',\n",
              " 'https://11589.gradio.app')"
            ]
          },
          "metadata": {},
          "execution_count": 5
        }
      ]
    },
    {
      "cell_type": "code",
      "source": [
        ""
      ],
      "metadata": {
        "id": "VzwDLEJ6V8rK"
      },
      "execution_count": null,
      "outputs": []
    }
  ]
}